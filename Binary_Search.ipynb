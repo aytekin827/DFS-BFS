{
  "nbformat": 4,
  "nbformat_minor": 0,
  "metadata": {
    "colab": {
      "name": "Binary Search.ipynb",
      "provenance": [],
      "authorship_tag": "ABX9TyPMHq8hj0SXTYD3ziGra9l9",
      "include_colab_link": true
    },
    "kernelspec": {
      "name": "python3",
      "display_name": "Python 3"
    },
    "language_info": {
      "name": "python"
    }
  },
  "cells": [
    {
      "cell_type": "markdown",
      "metadata": {
        "id": "view-in-github",
        "colab_type": "text"
      },
      "source": [
        "<a href=\"https://colab.research.google.com/github/aytekin827/algorithm_search/blob/main/Binary_Search.ipynb\" target=\"_parent\"><img src=\"https://colab.research.google.com/assets/colab-badge.svg\" alt=\"Open In Colab\"/></a>"
      ]
    },
    {
      "cell_type": "markdown",
      "source": [
        "# 이진탐색(Binary Search)\n"
      ],
      "metadata": {
        "id": "_Fkc7_gUxnky"
      }
    },
    {
      "cell_type": "markdown",
      "source": [
        "이분탐색은 탐색 기법중 하나로 말 그대로 탐색범위를 두 부분으로 나눠서 원하는 값을 찾는 방식이다.\n",
        "\n",
        "탐색 범위를 절반씩 줄여가면서 찾는 탐색방법이다.\n",
        "\n",
        "따라서 시간복잡도가 하나하나 일일이 탐색하는 순차탐색보다 더 좋다.\n",
        "\n",
        "시간복잡도 : **O(logN)**\n",
        "\n",
        "이분탐색을 할 때는 먼저 정렬이 된 상태이어야 한다.\n",
        "\n",
        "dynamic programming, recursion의 개념이 녹아있다.\n",
        "\n"
      ],
      "metadata": {
        "id": "N-P_LTGlxpnM"
      }
    },
    {
      "cell_type": "markdown",
      "source": [
        "### binary_search구현 with dynamic programming\n"
      ],
      "metadata": {
        "id": "lnsWc4qbCGus"
      }
    },
    {
      "cell_type": "code",
      "source": [
        "# 이진 탐색 소스코드 구현(반복문)\n",
        "def binary_search(array,target,start,end):\n",
        "    while start <= end:\n",
        "        mid = (start + end) // 2\n",
        "\n",
        "        # 찾은 경우 중간점 인덱스 반환\n",
        "        if array[mid] == target:\n",
        "            return mid\n",
        "        elif array[mid] > target:\n",
        "            end = mid - 1\n",
        "        else:\n",
        "            start = mid + 1\n",
        "    print('찾으려는 타겟값이 없습니다')\n",
        "    return None"
      ],
      "metadata": {
        "id": "cGKTMd-HCL7U"
      },
      "execution_count": null,
      "outputs": []
    },
    {
      "cell_type": "markdown",
      "source": [
        "### binary_search 구현 with 재귀(recursion)"
      ],
      "metadata": {
        "id": "YVOp4qsoCOku"
      }
    },
    {
      "cell_type": "code",
      "source": [
        "# 이진탐색 소스코드 구현(재귀 함수)\n",
        "def binary_search(array,target,start, end):\n",
        "    if start > end: # edge case\n",
        "        print('타겟값이 존재하지 않습니다')\n",
        "        return None\n",
        "    mid = (start + end) // 2\n",
        "    \n",
        "    # 찾은 경우 중간점 인덱스 반환\n",
        "    if array[mid] == target: # base case\n",
        "        return mid\n",
        "\n",
        "    # 중간점의 값보다 찾고자 하는 값이 작은 경우 왼쪽 확인\n",
        "    elif array[mid] < target:\n",
        "        return binary_search(array,target,start,mid-1)\n",
        "    \n",
        "    # 중간점의 값보다 찾고자 하는 값이 큰 경우 오른쪽 확인\n",
        "    else array[mid] > target:\n",
        "        return binary_search(array,target,mid+1,end)"
      ],
      "metadata": {
        "id": "nv21uS0MCEoI"
      },
      "execution_count": null,
      "outputs": []
    },
    {
      "cell_type": "markdown",
      "source": [
        "# 백준 문제풀이\n"
      ],
      "metadata": {
        "id": "07Q1bUdX-Gvs"
      }
    },
    {
      "cell_type": "code",
      "source": [
        "# 1920 수 찾기\n",
        "\n",
        "n = int(input())\n",
        "list_n = list(map(int, input().split()))\n",
        "list_n.sort()\n",
        "m = int(input())\n",
        "list_m = list(map(int, input().split()))\n",
        "\n",
        "# 반복문을 이용한 이진탐색\n",
        "def binary_search(data,target):\n",
        "    start = 0\n",
        "    end = len(data) - 1\n",
        "\n",
        "    while start <= end:\n",
        "        mid = (start + end) // 2\n",
        "        \n",
        "        if data[mid] == target:\n",
        "            return True\n",
        "        elif data[mid] < target:\n",
        "            start = mid + 1\n",
        "        else:\n",
        "            end = mid - 1\n",
        "    return None\n",
        "\n",
        "for target in list_m:\n",
        "    if binary_search(list_n,target):\n",
        "        print(1)\n",
        "    else:\n",
        "        print(0)"
      ],
      "metadata": {
        "colab": {
          "base_uri": "https://localhost:8080/"
        },
        "id": "izjiiYGg-Etx",
        "outputId": "7ba466ea-f6a6-4124-95f3-651653b275b7"
      },
      "execution_count": 10,
      "outputs": [
        {
          "output_type": "stream",
          "name": "stdout",
          "text": [
            "5\n",
            "4 1 5 2 3\n",
            "5\n",
            "1 3 79 5\n",
            "1\n",
            "1\n",
            "0\n",
            "1\n"
          ]
        }
      ]
    },
    {
      "cell_type": "code",
      "source": [
        "# 2805 나무자르기\n",
        "\n",
        "m,n = map(int, input().split())\n",
        "\n",
        "tree=list(map(int,input().split()))\n",
        "tree.sort()\n",
        "\n",
        "def binary_search_tree(data,target):\n",
        "    start = 1\n",
        "    end = max(data)\n",
        "\n",
        "    while start <= end:\n",
        "        res = 0\n",
        "        mid = (start + end)//2\n",
        "        for i in data:\n",
        "            if i > mid:\n",
        "                res += i - mid\n",
        "        if res == target:\n",
        "            return mid\n",
        "        elif res > target:\n",
        "            start = mid\n",
        "        else:\n",
        "            end = mid\n",
        "\n",
        "print(binary_search_tree(tree,n))"
      ],
      "metadata": {
        "colab": {
          "base_uri": "https://localhost:8080/"
        },
        "id": "amj0UlPGBfQK",
        "outputId": "b0c8f22c-d664-48f3-b86c-cd3993c9b934"
      },
      "execution_count": 23,
      "outputs": [
        {
          "output_type": "stream",
          "name": "stdout",
          "text": [
            "5 20\n",
            "4 42 40 26 46\n",
            "36\n"
          ]
        }
      ]
    },
    {
      "cell_type": "code",
      "execution_count": null,
      "metadata": {
        "id": "-cpdYY7vxmPM"
      },
      "outputs": [],
      "source": [
        ""
      ]
    }
  ]
}