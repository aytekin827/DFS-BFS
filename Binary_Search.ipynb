{
  "nbformat": 4,
  "nbformat_minor": 0,
  "metadata": {
    "colab": {
      "name": "Binary Search.ipynb",
      "provenance": [],
      "authorship_tag": "ABX9TyOo7mAdn92K7pqD9UrQ0iED",
      "include_colab_link": true
    },
    "kernelspec": {
      "name": "python3",
      "display_name": "Python 3"
    },
    "language_info": {
      "name": "python"
    }
  },
  "cells": [
    {
      "cell_type": "markdown",
      "metadata": {
        "id": "view-in-github",
        "colab_type": "text"
      },
      "source": [
        "<a href=\"https://colab.research.google.com/github/aytekin827/algorithm_search/blob/main/Binary_Search.ipynb\" target=\"_parent\"><img src=\"https://colab.research.google.com/assets/colab-badge.svg\" alt=\"Open In Colab\"/></a>"
      ]
    },
    {
      "cell_type": "markdown",
      "source": [
        "# 이분탐색\n"
      ],
      "metadata": {
        "id": "_Fkc7_gUxnky"
      }
    },
    {
      "cell_type": "markdown",
      "source": [
        "이분탐색은 탐색 기법중 하나로 말 그대로 탐색범위를 두 부분으로 나눠서 원하는 값을 찾는 방식이다.\n",
        "\n",
        "탐색 범위를 절반씩 줄여가면서 찾는 탐색방법이다.\n",
        "\n",
        "따라서 시간복잡도가 하나하나 일일이 탐색하는 순차탐색보다 더 좋다.\n",
        "\n",
        "시간복잡도 : O(logN)\n",
        "\n",
        "이분탐색을 할 때는 먼저 정렬이 된 상태이어야 한다.\n",
        "\n"
      ],
      "metadata": {
        "id": "N-P_LTGlxpnM"
      }
    },
    {
      "cell_type": "code",
      "execution_count": null,
      "metadata": {
        "id": "-cpdYY7vxmPM"
      },
      "outputs": [],
      "source": [
        ""
      ]
    }
  ]
}