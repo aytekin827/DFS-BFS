{
  "nbformat": 4,
  "nbformat_minor": 0,
  "metadata": {
    "colab": {
      "name": "DFS/BFS.ipynb",
      "provenance": [],
      "collapsed_sections": [],
      "toc_visible": true,
      "authorship_tag": "ABX9TyPLTLLHLqXwUuQGnOFZeo4+",
      "include_colab_link": true
    },
    "kernelspec": {
      "name": "python3",
      "display_name": "Python 3"
    },
    "language_info": {
      "name": "python"
    }
  },
  "cells": [
    {
      "cell_type": "markdown",
      "metadata": {
        "id": "view-in-github",
        "colab_type": "text"
      },
      "source": [
        "<a href=\"https://colab.research.google.com/github/aytekin827/DFS-BFS/blob/main/DFS_BFS.ipynb\" target=\"_parent\"><img src=\"https://colab.research.google.com/assets/colab-badge.svg\" alt=\"Open In Colab\"/></a>"
      ]
    },
    {
      "cell_type": "markdown",
      "metadata": {
        "id": "N8H57SqYN4GE"
      },
      "source": [
        "#이코테\n"
      ]
    },
    {
      "cell_type": "markdown",
      "metadata": {
        "id": "hShn66RXq89N"
      },
      "source": [
        "## DFS(depth First Search) - 깊이 우선 탐색\n",
        "**스택(stack)**의 개념이 사용된다 \n",
        "\n",
        "=> 재귀함수로도 구현이 가능함\n",
        "\n",
        "O(N)"
      ]
    },
    {
      "cell_type": "code",
      "metadata": {
        "id": "m4g2OfepqG2m",
        "colab": {
          "base_uri": "https://localhost:8080/"
        },
        "outputId": "9c01148e-8a83-4991-8a1a-b61e0fd65937"
      },
      "source": [
        "# DFS 매서드 정의\n",
        "\n",
        "def dfs(gragh,v,visited):\n",
        "    # 현재 노드를 방문처리\n",
        "    visited[v] = True\n",
        "    print(v,end=' ')\n",
        "    # 현재 노드와 연결된 다른 노드를 재귀적으로 방문\n",
        "    for i in gragh[v]:\n",
        "        if not visited[i]:\n",
        "            dfs(gragh,i,visited)\n",
        "\n",
        "# 리스트 자료형으로 그래프를 표현\n",
        "gragh = [\n",
        "         [],\n",
        "         [2,3,8],\n",
        "         [1,7],\n",
        "         [1,4,5],\n",
        "         [3,5],\n",
        "         [3,4],\n",
        "         [7],\n",
        "         [2,6,8],\n",
        "         [1,7]\n",
        "]\n",
        "\n",
        "visited = [False] * 9\n",
        "\n",
        "dfs(gragh,1,visited)"
      ],
      "execution_count": null,
      "outputs": [
        {
          "output_type": "stream",
          "name": "stdout",
          "text": [
            "1 2 7 6 8 3 4 5 "
          ]
        }
      ]
    },
    {
      "cell_type": "code",
      "metadata": {
        "colab": {
          "base_uri": "https://localhost:8080/"
        },
        "id": "_GLKcpp2ebpE",
        "outputId": "b2936cd8-6de2-4161-a449-0b0bcee903c1"
      },
      "source": [
        "# 음료수 얼려먹기 - 몇개의 아이스크림이 나오느냐\n",
        "# DFS\n",
        "\n",
        "# n=세로길이, m=가로길이\n",
        "n,m = map(int,input().split())\n",
        "\n",
        "gragh = []\n",
        "for i in range(n):\n",
        "    gragh.append(list(map(int,input())))\n",
        "\n",
        "def dfs(x,y):\n",
        "    if x <= -1 or x >= n or y <= -1 or y >= m:\n",
        "        return False\n",
        "\n",
        "    if gragh[x][y] == 0:\n",
        "        gragh[x][y] = 1\n",
        "\n",
        "        # 재귀적으로 dfs함수를 호출해줌 - 근데 왜 이게 dfs함수 개념이 되는거지? 어디에서 dfs개념이 쓰였다는거?\n",
        "        dfs(x-1,y)\n",
        "        dfs(x+1,y)\n",
        "        dfs(x,y-1)\n",
        "        dfs(x,y+1)\n",
        "        return True\n",
        "    return False\n",
        "\n",
        "result = 0\n",
        "for i in range(n):\n",
        "    for j in range(m):\n",
        "        if dfs(i,j) == True:\n",
        "            result += 1\n",
        "\n",
        "print(result)"
      ],
      "execution_count": null,
      "outputs": [
        {
          "output_type": "stream",
          "name": "stdout",
          "text": [
            "3 3\n",
            "101\n",
            "010\n",
            "111\n",
            "3\n"
          ]
        }
      ]
    },
    {
      "cell_type": "markdown",
      "metadata": {
        "id": "6WiSYdTXrI9I"
      },
      "source": [
        "## BFS(Breadth First Search) - 넓이 우선 탐색\n",
        "**큐(queue)** 자료구조 사용한다.  \n",
        "\n",
        "O(N)\n",
        "\n",
        "실제 수행시간은 DFS보다 좋다. **(BFS > DFS)**\n",
        "\n",
        "from collection import deque"
      ]
    },
    {
      "cell_type": "code",
      "metadata": {
        "colab": {
          "base_uri": "https://localhost:8080/"
        },
        "id": "vmTQsoHJcWpd",
        "outputId": "7fc82832-9bc8-4c9f-b6b4-6f4783fd2146"
      },
      "source": [
        "# BFS 매서드 정의\n",
        "\n",
        "from collections import deque\n",
        "\n",
        "def bfs(gragh,start,visited):\n",
        "    # 큐(Queue) 구현을 위해 deque라이브러리 사용\n",
        "    queue = deque([start])\n",
        "    # 현재 노드를 방문 처리\n",
        "    visited[start] = True\n",
        "    # 큐가 빌때까지 반복\n",
        "    while queue:\n",
        "        # 큐에서 하나의 원소를 뽑아 출력\n",
        "        v = queue.popleft()\n",
        "        print(v,end=' ')\n",
        "        # 해당 원소와 연결된, 아직 방문하지 않은 원소들을 큐에 삽입\n",
        "        for i in gragh[v]:\n",
        "            if not visited[i]:\n",
        "                queue.append(i)\n",
        "                visited[i] = True\n",
        "\n",
        "gragh = [\n",
        "         [],\n",
        "         [2,3,8],\n",
        "         [1,7],\n",
        "         [1,4,5],\n",
        "         [3,5],\n",
        "         [3,4],\n",
        "         [7],\n",
        "         [2,6,8],\n",
        "         [1,7]\n",
        "]\n",
        "\n",
        "visited = [False] * 9\n",
        "bfs(gragh,1,visited)"
      ],
      "execution_count": null,
      "outputs": [
        {
          "output_type": "stream",
          "name": "stdout",
          "text": [
            "1 2 3 8 7 4 5 6 "
          ]
        }
      ]
    },
    {
      "cell_type": "code",
      "metadata": {
        "colab": {
          "base_uri": "https://localhost:8080/"
        },
        "id": "LnkuIvNIfAu9",
        "outputId": "c88d23dd-bc4a-4546-90c5-3b0f7b26bcee"
      },
      "source": [
        "# 미로탈출\n",
        "# bfs 이용\n",
        "# 큐(Queue)\n",
        "\n",
        "n,m = map(int,input().split())\n",
        "\n",
        "gragh = []\n",
        "for i in range(n):\n",
        "    gragh.append(list(map(int,input())))\n",
        "\n",
        "from collections import deque\n",
        "\n",
        "# 상하좌우 좌표\n",
        "dx = [-1,1,0,0]\n",
        "dy = [0,0,-1,1]\n",
        "\n",
        "def bfs(x,y):\n",
        "    queue = deque()\n",
        "    queue.append((x,y))\n",
        "    while queue:\n",
        "        x,y = queue.popleft()\n",
        "        for i in range(4):\n",
        "            nx = x + dx[i]\n",
        "            ny = y + dy[i]\n",
        "            # 미로찾기에서 공간을 벗어난 경우 무시\n",
        "            if nx < 0 or ny < 0 or nx >= n or ny >= m: \n",
        "                continue\n",
        "            # 벽인 경우 무시\n",
        "            if gragh[nx][ny] == 0:\n",
        "                continue\n",
        "            if gragh[nx][ny] == 1:\n",
        "                gragh[nx][ny] = gragh[x][y]+1\n",
        "                queue.append((nx,ny))\n",
        "    return gragh[n-1][m-1]\n",
        "print(bfs(0,0))\n",
        "print(gragh)\n",
        "# 이게 왜 BFS와 연관이 있는건지? 큐 자료구조를 사용했기 때문에?"
      ],
      "execution_count": null,
      "outputs": [
        {
          "output_type": "stream",
          "name": "stdout",
          "text": [
            "5 6\n",
            "101010\n",
            "111111\n",
            "000001\n",
            "111111\n",
            "111111\n",
            "10\n",
            "[[3, 0, 5, 0, 7, 0], [2, 3, 4, 5, 6, 7], [0, 0, 0, 0, 0, 8], [14, 13, 12, 11, 10, 9], [15, 14, 13, 12, 11, 10]]\n"
          ]
        }
      ]
    },
    {
      "cell_type": "markdown",
      "metadata": {
        "id": "IXi22I3NOBwa"
      },
      "source": [
        "# 코드스테이츠 - n533"
      ]
    },
    {
      "cell_type": "markdown",
      "metadata": {
        "id": "wiHtPv7GOFy6"
      },
      "source": [
        "## DFS\n",
        "\n",
        "**재귀(recursion) vs 스텍(stack)**\n",
        "\n",
        "\n",
        "![image.png](data:image/png;base64,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)\n"
      ]
    },
    {
      "cell_type": "code",
      "metadata": {
        "colab": {
          "base_uri": "https://localhost:8080/"
        },
        "id": "9XC1cegvOJQz",
        "outputId": "d93654d3-320e-4fa2-c81b-43858462719e"
      },
      "source": [
        "# 재귀함수를 이용해서\n",
        "def dfs_recur(node, dfs_graph, dfs_list=[]):\n",
        "    dfs_list.append(node)   # 리스트에 인접한 노드를 덧붙이는 형태\n",
        "    for i in dfs_graph[node]:   # 노드의 인접한 노드를 기준으로 반복한다. \n",
        "        if i not in dfs_list:\n",
        "            dfs_recur(i,dfs_graph,dfs_list)\n",
        "    return dfs_list\n",
        "\n",
        "if __name__ == '__main__':\n",
        "    dfs_graph = {\n",
        "        1: [2,3,4],\n",
        "        2: [5],\n",
        "        3: [6],\n",
        "        4: [],\n",
        "        5: [7],\n",
        "        6: [5],\n",
        "        7: [6],\n",
        "    }\n",
        "    print(dfs_recur(1, dfs_graph, dfs_list=[]))\n",
        "    # => [1, 2, 5, 7, 6, 3, 4]\n",
        "#     dfs_graph = {   # 그래프를 인접리스트로 표현\n",
        "#     16: [12,13],\n",
        "#     12: [11,14],\n",
        "#     13: [19],\n",
        "#     11: [9],\n",
        "#     9: [91,92],\n",
        "#     91: [],\n",
        "#     92: [],\n",
        "#     14: [],\n",
        "#     13: [19],\n",
        "#     19: [15,20],\n",
        "#     15: [],\n",
        "#     20: [],\n",
        "# }\n",
        "#     print(dfs_recur(16, dfs_graph, dfs_list=[]))\n"
      ],
      "execution_count": null,
      "outputs": [
        {
          "output_type": "stream",
          "name": "stdout",
          "text": [
            "[1, 2, 5, 7, 6, 3, 4]\n"
          ]
        }
      ]
    },
    {
      "cell_type": "code",
      "metadata": {
        "colab": {
          "base_uri": "https://localhost:8080/"
        },
        "id": "P-sADaPeOsla",
        "outputId": "82823742-082d-4302-87b6-e04a91e90267"
      },
      "source": [
        "# 스택을 활용한 DFS 구현하기 \n",
        "def dfs_stack(start_node, dfs_graph):\n",
        "    dfs_list = []\n",
        "    stack_list = [start_node]\n",
        "    while stack_list:\n",
        "        node = stack_list.pop() # 리스트 메소드        \n",
        "        if node not in dfs_list:\n",
        "            dfs_list.append(node)\n",
        "            stack_list.extend(dfs_graph[node])\n",
        "    return dfs_list \n",
        "\n",
        "if __name__ == '__main__':\n",
        "    dfs_graph = {\n",
        "        1: [2,3,4],\n",
        "        2: [5],\n",
        "        3: [6],\n",
        "        4: [],\n",
        "        5: [7],\n",
        "        6: [5],\n",
        "        7: [6],\n",
        "    }\n",
        "    print(dfs_stack(1, dfs_graph))\n",
        "    # => [1, 4, 3, 6, 5, 7, 2]"
      ],
      "execution_count": null,
      "outputs": [
        {
          "output_type": "stream",
          "name": "stdout",
          "text": [
            "[1, 4, 3, 6, 5, 7, 2]\n"
          ]
        }
      ]
    },
    {
      "cell_type": "markdown",
      "metadata": {
        "id": "hzf0_79JOHbl"
      },
      "source": [
        "## BFS\n",
        "\n"
      ]
    },
    {
      "cell_type": "code",
      "metadata": {
        "colab": {
          "base_uri": "https://localhost:8080/"
        },
        "id": "FyAn0MYFQVhG",
        "outputId": "6675c558-ce65-4a8f-b6f0-c0ba9ead30b8"
      },
      "source": [
        "# 우선 deque를 위해 자료구조의 큐에서 배웠던 내용을 복습한다.\n",
        "\n",
        "from collections import deque\n",
        "queue = deque([\"Eric\", \"John\", \"Michael\"])\n",
        "print(queue)\n",
        "queue.append(\"Terry\")        # append : 오른쪽끝 삽입   \n",
        "print(queue)\n",
        "queue.appendleft(\"Graham\")   # appendleft : 왼쪽 끝 삽입       \n",
        "print(queue)\n",
        "print(queue.pop())           # pop : 오른쪽 끝 빼오기\n",
        "print(queue)\n",
        "print(queue.popleft())       # popleft : 왼쪽끝 빼오기           \n",
        "print(queue)             \n",
        "queue.extend([1])\n",
        "print(queue)             \n",
        "queue.append([1])\n",
        "queue              "
      ],
      "execution_count": null,
      "outputs": [
        {
          "output_type": "stream",
          "name": "stdout",
          "text": [
            "deque(['Eric', 'John', 'Michael'])\n",
            "deque(['Eric', 'John', 'Michael', 'Terry'])\n",
            "deque(['Graham', 'Eric', 'John', 'Michael', 'Terry'])\n",
            "Terry\n",
            "deque(['Graham', 'Eric', 'John', 'Michael'])\n",
            "Graham\n",
            "deque(['Eric', 'John', 'Michael'])\n",
            "deque(['Eric', 'John', 'Michael', 1])\n"
          ]
        },
        {
          "output_type": "execute_result",
          "data": {
            "text/plain": [
              "deque(['Eric', 'John', 'Michael', 1, [1]])"
            ]
          },
          "metadata": {},
          "execution_count": 30
        }
      ]
    },
    {
      "cell_type": "code",
      "metadata": {
        "colab": {
          "base_uri": "https://localhost:8080/"
        },
        "id": "gRC7Ot_HOJ2m",
        "outputId": "f58bd1b3-9804-4311-b279-08910ac9e3de"
      },
      "source": [
        "def bfs_queue(start_node,bfs_graph):\n",
        "  bfs_list = [start_node]\n",
        "  queue = [start_node]\n",
        "  #외부반복문\n",
        "  while queue:\n",
        "    node = queue.pop(0)\n",
        "    # 내부반복문\n",
        "    for i in bfs_graph[node]: \n",
        "        if i not in bfs_list:\n",
        "            queue.append(i)\n",
        "            bfs_list.append(i)\n",
        "\n",
        "  return bfs_list\n",
        "\n",
        "if __name__ == '__main__':\n",
        "    bfs_graph = { \n",
        "        1: [2,3,4],\n",
        "        2: [5],\n",
        "        3: [6],\n",
        "        4: [],\n",
        "        5: [7],\n",
        "        6: [5],\n",
        "        7: [6],\n",
        "    }\n",
        "    print(bfs_queue(2, bfs_graph))"
      ],
      "execution_count": null,
      "outputs": [
        {
          "output_type": "stream",
          "name": "stdout",
          "text": [
            "[2, 5, 7, 6]\n"
          ]
        }
      ]
    },
    {
      "cell_type": "markdown",
      "metadata": {
        "id": "7s_iTxkqrajr"
      },
      "source": [
        "# 백준 문제 - DFS/BFS"
      ]
    },
    {
      "cell_type": "code",
      "metadata": {
        "colab": {
          "base_uri": "https://localhost:8080/"
        },
        "id": "LH_H1z64k9sa",
        "outputId": "529803e5-78cc-4ca1-cbb2-aa30b0f6b0dd"
      },
      "source": [
        "# 1260번\n",
        "\n",
        "# 입력값을 받는 부분\n",
        "# 인접행렬로 그래프를 표현하였다.\n",
        "n,m,v = map(int,input().split())\n",
        "graph = [[0]*(n+1) for _ in range(n+1)]\n",
        "for i in range(n+1):\n",
        "    a,b = map(int,input().split())\n",
        "    graph[a][b] = graph[b][a] = 1\n",
        "\n",
        "# DFS구현\n",
        "visited_dfs = [0]*(n+1)\n",
        "def dfs(v):\n",
        "    visited_dfs[v] = 1                         # 방문처리\n",
        "    print(v,end=' ')                         \n",
        "    for i in range(n+1):\n",
        "        if visited_dfs[i]==0 and graph[i][v]:  # 방문했었는지, 그리고 간선이 있는지 확인\n",
        "        dfs(i)\t\t\t\t\t\t\t       # 재귀함수 호출\n",
        "dfs(v)\n",
        "\n",
        "# BFS구현\n",
        "visited_bfs = [0] * (n+1)\n",
        "from collections import deque\n",
        "def bfs(v):\n",
        "    visited_bfs[v] = 1                         # 방문처리\n",
        "    queue = deque()\n",
        "    queue.append(v) \t\t\t\t\t\t   # 큐에 노드 삽입\n",
        "    while queue:\t\t\t\t\t\t\t   # 큐에 노드가 없을때까지 반복\n",
        "        node = queue.popleft()                 # 큐에서 빼주기\n",
        "        print(node,end=' ')\n",
        "        for i in range(n+1):\n",
        "            if visited_bfs[i] == 0 and graph[i][node]: # 방문했었는지, 그리고 간선이 있는지 확인\n",
        "                queue.append(i)                        # 큐에 노드 삽입\n",
        "                visited_bfs[i] = 1\t\t\t\t       # 방문처리\n",
        "print()\n",
        "bfs(v)"
      ],
      "execution_count": null,
      "outputs": [
        {
          "output_type": "stream",
          "name": "stdout",
          "text": [
            "4 5 1\n",
            "1 2\n",
            " 1 3\n",
            "1 4\n",
            "2 4\n",
            "3 4\n",
            "1 1\n",
            "2 2\n",
            "3 3\n",
            "4 \n",
            "1 2 3 4 "
          ]
        }
      ]
    },
    {
      "cell_type": "code",
      "metadata": {
        "colab": {
          "base_uri": "https://localhost:8080/"
        },
        "id": "Uz4S8cjjQoY8",
        "outputId": "1683956f-8d7a-43b9-8faf-472dac6f23dd"
      },
      "source": [
        "# 2606번 바이러스 - dfs\n",
        "\n",
        "n = int(input())\n",
        "m = int(input())\n",
        "graph = [[0]*(n+1) for _ in range(n+1)]\n",
        "for _ in range(m):\n",
        "    a,b = map(int,input().split())\n",
        "    graph[a][b] = graph[b][a] = 1\n",
        "\n",
        "visited = [0]*(n+1)\n",
        "\n",
        "def dfs(v):\n",
        "    visited[v] = 1\n",
        "    for i in range(n+1):\n",
        "        if graph[i][v] == 1 and visited[i] == 0:\n",
        "            dfs(i)\n",
        "dfs(1)\n",
        "\n",
        "print(sum(visited)-1)"
      ],
      "execution_count": null,
      "outputs": [
        {
          "output_type": "stream",
          "name": "stdout",
          "text": [
            "7\n",
            "6\n",
            "1 2\n",
            "2 3\n",
            "1 5\n",
            "5 2\n",
            "5 6\n",
            "4 7\n",
            "4\n"
          ]
        }
      ]
    },
    {
      "cell_type": "code",
      "metadata": {
        "colab": {
          "base_uri": "https://localhost:8080/"
        },
        "id": "dALtSDLETO6q",
        "outputId": "3e11072b-6bda-4aad-b2e5-f919140619ad"
      },
      "source": [
        "# 2606번 바이러스 - bfs\n",
        "\n",
        "n = int(input())\n",
        "m = int(input())\n",
        "graph = [[0]*(n+1) for _ in range(n+1)]\n",
        "for _ in range(m):\n",
        "    a,b = map(int,input().split())\n",
        "    graph[a][b] = graph[b][a] = 1\n",
        "\n",
        "visited = [0]*(n+1)\n",
        "\n",
        "from collections import deque\n",
        "def bfs(v):\n",
        "    visited[v] = 1\n",
        "    queue = deque()\n",
        "    queue.append(v)\n",
        "    while queue:\n",
        "        node = queue.popleft()\n",
        "        for i in range(n+1):\n",
        "            if graph[i][node] == 1 and visited[i] == 0:\n",
        "                queue.append(i)\n",
        "                visited[i] = 1\n",
        "bfs(1)\n",
        "\n",
        "print(sum(visited)-1)"
      ],
      "execution_count": null,
      "outputs": [
        {
          "output_type": "stream",
          "name": "stdout",
          "text": [
            "7\n",
            "6\n",
            "1 2\n",
            "2 3\n",
            "1 5\n",
            "5 2\n",
            "5 6\n",
            "4 7\n",
            "4\n"
          ]
        }
      ]
    },
    {
      "cell_type": "code",
      "metadata": {
        "colab": {
          "base_uri": "https://localhost:8080/"
        },
        "id": "JZufmpO9U1Sw",
        "outputId": "477a1a32-77cc-43f7-d868-b1efac1d0149"
      },
      "source": [
        "# 2667 단지번호붙이기\n",
        "\n",
        "# 입력값\n",
        "n = int(input())\n",
        "# 그래프\n",
        "graph = []\n",
        "for _ in range(n):\n",
        "    graph.append(list(map(int,input())))\n",
        "\n",
        "# dfs함수 정의\n",
        "def dfs(x,y,apt_num):\n",
        "    if x < 0 or x > n-1 or y < 0 or y > n-1:\n",
        "        return False\n",
        "    if graph[x][y] == 1:\n",
        "        graph[x][y] = apt_num\n",
        "        dfs(x,y+1,apt_num) # 상\n",
        "        dfs(x,y-1,apt_num) # 하\n",
        "        dfs(x-1,y,apt_num) # 좌\n",
        "        dfs(x+1,y,apt_num) # 우\n",
        "        return True\n",
        "    else:\n",
        "        return False\n",
        "\n",
        "# 단지의 개수, 단지별 서로다른 숫자 할당하기\n",
        "result = 0\n",
        "apt_num = 2 \n",
        "for x in range(n):\n",
        "    for y in range(n):\n",
        "        if dfs(x,y,apt_num) == True:\n",
        "            apt_num += 1\n",
        "            result += 1\n",
        "\n",
        "# 아파트 단지별로 아파트 숫자 카운트\n",
        "homes = []\n",
        "for apt_num in range(2,result+2):\n",
        "    count = 0\n",
        "    for i in graph:\n",
        "        for j in i:\n",
        "            if apt_num == j:\n",
        "                count += 1\n",
        "    homes.append(count)\n",
        "homes.sort()   \n",
        "\n",
        "# 결과 출력\n",
        "print(result)\n",
        "for i in homes:\n",
        "    print(i)"
      ],
      "execution_count": null,
      "outputs": [
        {
          "output_type": "stream",
          "name": "stdout",
          "text": [
            "7\n",
            "0110100\n",
            "0110101\n",
            "1110101\n",
            "0000111\n",
            "0100000\n",
            "0111110\n",
            "0111000\n",
            "3\n",
            "7\n",
            "8\n",
            "9\n"
          ]
        }
      ]
    },
    {
      "cell_type": "code",
      "metadata": {
        "id": "iO9NS6CUQm3O"
      },
      "source": [
        "# 1012 유기농 배추 - dfs/bfs탐색\n",
        "import sys\n",
        "sys.setrecursionlimit(10 ** 6)\n",
        "t = int(input())\n",
        "\n",
        "def dfs(x,y):\n",
        "    if x < 0 or x > n-1 or y < 0 or y > m-1:\n",
        "        return False\n",
        "    if graph[x][y] == 1:\n",
        "        graph[x][y] = 0\n",
        "        dfs(x-1,y) # 상\n",
        "        dfs(x+1,y) # 하\n",
        "        dfs(x,y-1) # 좌\n",
        "        dfs(x,y+1) # 우\n",
        "        return True\n",
        "    return False\n",
        "\n",
        "for _ in range(t):\n",
        "    m,n,k = map(int,input().split()) # m=가로, n=세로, k=배추개수\n",
        "    graph = [[0]*(m) for _ in range(n)]\n",
        "    for _ in range(k):\n",
        "        a,b = map(int,input().split())\n",
        "        graph[b][a] = 1\n",
        "    \n",
        "    res = 0\n",
        "    for y in range(m):\n",
        "        for x in range(n):\n",
        "            if dfs(x,y) == True:\n",
        "                res += 1\n",
        "\n",
        "    print(res)"
      ],
      "execution_count": null,
      "outputs": []
    },
    {
      "cell_type": "code",
      "metadata": {
        "colab": {
          "base_uri": "https://localhost:8080/"
        },
        "id": "2HViTuacBEOu",
        "outputId": "ff2d1425-a106-4bc1-9930-576caf5f4e75"
      },
      "source": [
        "# 2178 미로 탐색 - 최단거리\n",
        "\n",
        "n,m = map(int,input().split())\n",
        "graph = []\n",
        "for _ in range(n):\n",
        "    graph.append(list(map(int,input())))\n",
        "\n",
        "arrow = [[-1,0],[1,0],[0,-1],[0,1]] # 상하좌우\n",
        "from collections import deque\n",
        "def bfs(x,y,step=1):\n",
        "    q = deque()\n",
        "    q.append([x,y])\n",
        "    while q:\n",
        "        node = q.popleft()\n",
        "\n",
        "        for i in arrow:\n",
        "            new_node = [x+y for x,y in zip(node,i)]\n",
        "            if new_node[0] < 0 or new_node[1] < 0 or new_node[0] > n-1 or new_node[1] > m-1:\n",
        "                continue \n",
        "            if graph[new_node[0]][new_node[1]] == 1:\n",
        "                q.append(new_node)\n",
        "                graph[new_node[0]][new_node[1]] = graph[node[0]][node[1]] + 1\n",
        "\n",
        "bfs(0,0)\n",
        "print(graph[n-1][m-1])"
      ],
      "execution_count": null,
      "outputs": [
        {
          "output_type": "stream",
          "name": "stdout",
          "text": [
            "4 6\n",
            "101111\n",
            "101010\n",
            "101011\n",
            "111011\n",
            "15\n"
          ]
        }
      ]
    },
    {
      "cell_type": "code",
      "metadata": {
        "colab": {
          "base_uri": "https://localhost:8080/"
        },
        "id": "V_bIXHGgqIb_",
        "outputId": "649d038c-9f98-4e84-9ff9-c94251e3b19f"
      },
      "source": [
        "# 7576 토마토\n",
        "\n",
        "m,n = map(int,input().split())\n",
        "graph = []\n",
        "for _ in range(n):\n",
        "    graph.append(list(map(int,input().split())))\n",
        "\n",
        "arrow = [[-1,0],[1,0],[0,-1],[0,1]] # 상하좌우\n",
        "\n",
        "from collections import deque\n",
        "def bfs_tomato(m,n,graph,cnt=0):\n",
        "\n",
        "    # 모든 토마토가 이미 채워져 있는 경우\n",
        "    test = set()\n",
        "    for x in range(n):\n",
        "        for y in range(m):\n",
        "            test.add(graph[x][y])\n",
        "    if 0 not in test:\n",
        "        return 0\n",
        "    \n",
        "    queue = deque()\n",
        "    \n",
        "    for x in range(n):\n",
        "        for y in range(m):\n",
        "            if graph[x][y] == 1:\n",
        "                queue.append([x,y])\n",
        "          \n",
        "    while queue:\n",
        "        cnt += 1\n",
        "        for _ in range(len(queue)):\n",
        "            tomato = queue.popleft()\n",
        "            for i in arrow:\n",
        "                new = [x+y for x,y in zip(tomato,i)]\n",
        "                if new[0] < 0 or new[0] > n-1 or new[1] < 0 or new[1] > m-1:\n",
        "                    continue\n",
        "                if graph[new[0]][new[1]] == 0:\n",
        "                    queue.append(new)\n",
        "                    graph[new[0]][new[1]] = 1\n",
        "        # print(f'queue:{queue},count:{cnt}')\n",
        "     \n",
        "    for x in range(n):\n",
        "        for y in range(m):\n",
        "            if not bool(graph[x][y]):\n",
        "                return -1\n",
        "    return cnt-1\n",
        "\n",
        "print(bfs_tomato(m,n,graph))"
      ],
      "execution_count": null,
      "outputs": [
        {
          "output_type": "stream",
          "name": "stdout",
          "text": [
            "2 2 \n",
            "1 -1 \n",
            "-1 1\n",
            "0\n"
          ]
        }
      ]
    },
    {
      "cell_type": "code",
      "metadata": {
        "colab": {
          "base_uri": "https://localhost:8080/"
        },
        "id": "9vpm8DxaIvPN",
        "outputId": "ec107bd8-1f53-4ce8-9033-1e73a48ce7d4"
      },
      "source": [
        "# 7569 토마토 3차원 문제\n",
        "# 시간초과가 났음 \n",
        "# 더 심각한것은 왜 시간초과가 났는지 모르겠음...!!!\n",
        "import sys\n",
        "input = sys.stdin.readline\n",
        "m,n,h = map(int,input().split())\n",
        "graph = [[] for _ in range(h)]\n",
        "for i in range(h):\n",
        "    for _ in range(n):\n",
        "        graph[i].append(list(map(int,input().split())))\n",
        "# graph[층h][가로m][세로n]\n",
        "\n",
        "arrow = [[1,0,0],\n",
        "         [-1,0,0],\n",
        "         [0,-1,0],\n",
        "         [0,1,0],\n",
        "         [0,0,-1],\n",
        "         [0,0,1]] # 상 하 좌 우 위 아래\n",
        "\n",
        "from collections import deque\n",
        "def bfs_tomato(m,n,h,graph,cnt=0):\n",
        "\n",
        "    # 모든 토마토가 이미 채워져 있는 경우\n",
        "    queue = deque()\n",
        "    test = set()\n",
        "    for z in range(h):\n",
        "        for x in range(n):\n",
        "            for y in range(m):\n",
        "                if graph[z][x][y] == 1:\n",
        "                    queue.append([z,x,y])\n",
        "                test.add(graph[z][x][y])\n",
        "    if 0 not in test:\n",
        "        return 0\n",
        "\n",
        "    while queue:\n",
        "        cnt += 1\n",
        "        for _ in range(len(queue)):\n",
        "            tomato = queue.popleft()\n",
        "            for i in arrow:\n",
        "                new = [x+y for x,y in zip(tomato,i)]\n",
        "                if new[0] < 0 or new[0] > h-1 or new[1] < 0 or new[1] > n-1 or new[2] < 0 or new[2] > m-1:\n",
        "                    continue\n",
        "                if graph[new[0]][new[1]][new[2]] == 0:\n",
        "                    queue.append(new)\n",
        "                    graph[new[0]][new[1]][new[2]] = 1\n",
        "        # print(f'queue:{queue},count:{cnt}') 출력확인용\n",
        "     \n",
        "    for z in range(h):\n",
        "        for x in range(n):\n",
        "            for y in range(m):\n",
        "                if not bool(graph[z][x][y]):\n",
        "                    return -1\n",
        "    return cnt-1\n",
        "\n",
        "print(bfs_tomato(m,n,h,graph))"
      ],
      "execution_count": null,
      "outputs": [
        {
          "output_type": "stream",
          "name": "stdout",
          "text": [
            "4 3 2\n",
            "1 1 1 1 \n",
            "1 1 1 1 \n",
            "1 1 1 1 \n",
            "1 1 1 1 \n",
            "-1 -1 -1 -1 \n",
            "1 1 1 1 \n",
            "0\n"
          ]
        }
      ]
    },
    {
      "cell_type": "code",
      "metadata": {
        "id": "Cx5jqji4fEPN"
      },
      "source": [
        "# 3차원 토마토문제 구글링한것\n",
        "\n",
        "from collections import deque\n",
        "\n",
        "def BFS():\n",
        "    while Q:\n",
        "        x,y,z = Q.popleft()\n",
        "\n",
        "        for i in range(6):\n",
        "            nx, ny, nz = x + dx[i], y + dy[i], z + dz[i]\n",
        "\n",
        "            if 0 <= nx < H and 0 <= ny < N and 0 <= nz < M:\n",
        "                if arr[nx][ny][nz] == 0:\n",
        "                    arr[nx][ny][nz] = arr[x][y][z] + 1\n",
        "                    Q.append((nx,ny,nz))\n",
        "\n",
        "\n",
        "M, N, H = map(int, input().split())\n",
        "arr = [[] for _ in range(H)]\n",
        "for i in range(H):\n",
        "    for _ in range(N):\n",
        "        arr[i].append(list(map(int, input().split())))\n",
        "\n",
        "dx = [0,0,0,0,1,-1]\n",
        "dy = [0,0,1,-1,0,0]\n",
        "dz = [1,-1,0,0,0,0]\n",
        "\n",
        "answer = 0\n",
        "Q = deque()\n",
        "\n",
        "for i in range(H):\n",
        "    for j in range(N):\n",
        "        for k in range(M):\n",
        "            if arr[i][j][k] == 1:\n",
        "                Q.append((i,j,k))\n",
        "\n",
        "BFS()\n",
        "Flag = False\n",
        "\n",
        "for i in range(H):\n",
        "    for j in range(N):\n",
        "        for k in range(M):\n",
        "\n",
        "            if arr[i][j][k] == 0:\n",
        "                Flag = True\n",
        "                break\n",
        "            answer = max(answer, arr[i][j][k])\n",
        "\n",
        "if Flag:\n",
        "    answer = -1\n",
        "elif answer == -1:\n",
        "    answer = 0\n",
        "else:\n",
        "    answer -= 1\n",
        "\n",
        "print(answer)"
      ],
      "execution_count": null,
      "outputs": []
    },
    {
      "cell_type": "code",
      "metadata": {
        "colab": {
          "base_uri": "https://localhost:8080/"
        },
        "id": "T33Cgl4rbKdH",
        "outputId": "cc0581c2-e150-4c70-c89b-dc949a8ae589"
      },
      "source": [
        "from collections import deque\n",
        "import sys\n",
        "input = sys.stdin.readline\n",
        "def bfs():\n",
        "    while queue:\n",
        "        x,y = queue.popleft()\n",
        "        for step in range(8):\n",
        "            nx,ny = x + dx[step], y+dy[step]\n",
        "            if 0<=nx<i and 0<=ny<i and graph[nx][ny]== 0:  \n",
        "                    queue.append((nx,ny))\n",
        "                    graph[nx][ny] = graph[x][y]+1\n",
        "# 7562 나이트의 이동\n",
        "case = int(input())\n",
        "# 나이트의 이동경로\n",
        "dx = [-1,-2,-2,-1,1,2,2,1]\n",
        "dy = [2,1,-1,-2,-2,-1,1,2]\n",
        "for _ in range(case):\n",
        "    i = int(input())\n",
        "    a,b = map(int,input().split())\n",
        "    c,d = map(int,input().split())\n",
        "    graph = [[0]*i for _ in range(i)]\n",
        "    queue = deque()\n",
        "    queue.append((a,b))\n",
        "    bfs()\n",
        "    if (a,b) == (c,d):\n",
        "        print(0)\n",
        "    else:\n",
        "        print(graph[c][d])"
      ],
      "execution_count": null,
      "outputs": [
        {
          "output_type": "stream",
          "name": "stdout",
          "text": [
            "1\n",
            "10\n",
            "1 1\n",
            "1 1\n",
            "0\n"
          ]
        }
      ]
    },
    {
      "cell_type": "code",
      "metadata": {
        "id": "IbARG7LIgXlt"
      },
      "source": [
        "from collections import deque\n",
        "import sys\n",
        "input = sys.stdin.readline\n",
        "dx = [-1, -2, -2, -1, 1, 2, 2, 1]\n",
        "dy = [2, 1, -1, -2, -2, -1, 1, 2]\n",
        "def bfs(sx, sy, ax, ay):\n",
        "    q = deque()\n",
        "    q.append([sx, sy])\n",
        "    s[sx][sy] = 1\n",
        "    while q:\n",
        "        a, b = q.popleft()\n",
        "        if a == ax and b == ay:\n",
        "            print(s[ax][ay] -1)\n",
        "            return\n",
        "        for i in range(8):\n",
        "            x = a + dx[i]\n",
        "            y = b + dy[i]\n",
        "            if 0 <= x < n and 0 <= y < n and s[x][y] == 0:\n",
        "                q.append([x, y])\n",
        "                s[x][y] = s[a][b] + 1\n",
        "t = int(input())\n",
        "for i in range(t):\n",
        "    n = int(input())\n",
        "    sx, sy = map(int, input().split())\n",
        "    ax, ay = map(int, input().split())\n",
        "    s = [[0] * n for i in range(n)]\n",
        "    bfs(sx, sy, ax, ay)"
      ],
      "execution_count": null,
      "outputs": []
    },
    {
      "cell_type": "code",
      "metadata": {
        "colab": {
          "base_uri": "https://localhost:8080/"
        },
        "id": "kOXiobQqoMqX",
        "outputId": "4ffdcb12-d620-4110-ba56-a28be0637a83"
      },
      "source": [
        "graph"
      ],
      "execution_count": null,
      "outputs": [
        {
          "output_type": "execute_result",
          "data": {
            "text/plain": [
              "[[2, 3, 6, 0, 0, 0, 0, 0],\n",
              " [3, 4, 1, 4, 7, 0, 0, 0],\n",
              " [2, 1, 4, 5, 2, 5, 8, 0],\n",
              " [3, 2, 3, 2, 5, 6, 3, 6],\n",
              " [2, 3, 2, 3, 4, 3, 6, 7],\n",
              " [3, 4, 3, 4, 3, 4, 5, 4],\n",
              " [0, 3, 4, 3, 4, 5, 4, 5],\n",
              " [0, 0, 0, 4, 5, 4, 5, 6]]"
            ]
          },
          "metadata": {},
          "execution_count": 31
        }
      ]
    },
    {
      "cell_type": "markdown",
      "metadata": {
        "id": "QEXkWvlcrmfI"
      },
      "source": [
        "# 연습장\n"
      ]
    },
    {
      "cell_type": "code",
      "metadata": {
        "colab": {
          "base_uri": "https://localhost:8080/"
        },
        "id": "6q_fPcAdrpAa",
        "outputId": "527fa4bf-9a78-4cb3-ed0a-3444935a5c70"
      },
      "source": [
        "def dfs(gragh,v,visited):\n",
        "    visited[v] = True\n",
        "    print(v,end=' ')\n",
        "    for i in gragh[v]:\n",
        "        if not visited[i]:\n",
        "            dfs(gragh,i,visited)\n",
        "\n",
        "# 리스트 자료형으로 그래프를 표현\n",
        "gragh = [\n",
        "         [],\n",
        "         [2,3,8],\n",
        "         [1,7],\n",
        "         [1,4,5],\n",
        "         [3,5],\n",
        "         [3,4],\n",
        "         [7],\n",
        "         [2,6,8],\n",
        "         [1,7]\n",
        "]\n",
        "\n",
        "visited = [False] * 9\n",
        "\n",
        "dfs(gragh,1,visited)"
      ],
      "execution_count": null,
      "outputs": [
        {
          "output_type": "stream",
          "name": "stdout",
          "text": [
            "1 2 7 6 8 3 4 5 "
          ]
        }
      ]
    },
    {
      "cell_type": "code",
      "metadata": {
        "colab": {
          "base_uri": "https://localhost:8080/"
        },
        "id": "4u1z8V0Cskwk",
        "outputId": "04461982-30c1-4254-f3cd-34b71b9d02ed"
      },
      "source": [
        "from collections import deque\n",
        "\n",
        "def bfs(gragh,v,visited):\n",
        "    queue = deque([v])\n",
        "    visited[v] = True\n",
        "    while queue:\n",
        "        v = queue.popleft()\n",
        "        print(v,end=' ')\n",
        "        for i in gragh[v]:\n",
        "            if not visited[i]:\n",
        "                queue.append(i)\n",
        "                visited[i] = True\n",
        "\n",
        "# # BFS 매서드 정의\n",
        "\n",
        "# from collections import deque\n",
        "\n",
        "# def bfs(gragh,start,visited):\n",
        "#     # 큐(Queue) 구현을 위해 deque라이브러리 사용\n",
        "#     queue = deque([start])\n",
        "#     # 현재 노드를 방문 처리\n",
        "#     visited[start] = True\n",
        "#     # 큐가 빌때까지 반복\n",
        "#     while queue:\n",
        "#         # 큐에서 하나의 원소를 뽑아 출력\n",
        "#         v = queue.popleft()\n",
        "#         print(v,end=' ')\n",
        "#         # 해당 원소와 연결된, 아직 방문하지 않은 원소들을 큐에 삽입\n",
        "#         for i in gragh[v]:\n",
        "#             if not visited[i]:\n",
        "#                 queue.append(i)\n",
        "#                 visited[i] = True\n",
        "\n",
        "# 리스트 자료형으로 그래프를 표현\n",
        "gragh = [\n",
        "         [],\n",
        "         [2,3,8],\n",
        "         [1,7],\n",
        "         [1,4,5],\n",
        "         [3,5],\n",
        "         [3,4],\n",
        "         [7],\n",
        "         [2,6,8],\n",
        "         [1,7]\n",
        "]\n",
        "\n",
        "visited = [False] * 9\n",
        "\n",
        "bfs(gragh,1,visited)"
      ],
      "execution_count": null,
      "outputs": [
        {
          "output_type": "stream",
          "name": "stdout",
          "text": [
            "1 2 3 8 7 4 5 6 "
          ]
        }
      ]
    },
    {
      "cell_type": "code",
      "metadata": {
        "colab": {
          "base_uri": "https://localhost:8080/"
        },
        "id": "GJtCU65guKQy",
        "outputId": "1b2d11dc-1fd8-40f3-f6bb-591822af6275"
      },
      "source": [
        "# dfs\n",
        "\n",
        "def dfs(gragh,v,visited):\n",
        "    visited[v] = True\n",
        "    print(v,end=' ')\n",
        "    for i in gragh[v]:\n",
        "        if not visited[i]:\n",
        "            dfs(gragh,i,visited)\n",
        "            \n",
        "gragh = [\n",
        "         [],\n",
        "         [2,3,8],\n",
        "         [1,7],\n",
        "         [1,4,5],\n",
        "         [3,5],\n",
        "         [3,4],\n",
        "         [7],\n",
        "         [2,6,8],\n",
        "         [1,7]\n",
        "]\n",
        "\n",
        "visited = [False] * 9\n",
        "\n",
        "dfs(gragh,1,visited)"
      ],
      "execution_count": null,
      "outputs": [
        {
          "output_type": "stream",
          "name": "stdout",
          "text": [
            "1 2 7 6 8 3 4 5 "
          ]
        }
      ]
    },
    {
      "cell_type": "code",
      "metadata": {
        "colab": {
          "base_uri": "https://localhost:8080/"
        },
        "id": "9h7EXHZHulSJ",
        "outputId": "2ef2f743-d254-4228-bf71-03765f6855f0"
      },
      "source": [
        "from collections import deque\n",
        "\n",
        "def bfs(gragh,v,visited):\n",
        "    visited[v] = True\n",
        "    queue = deque([v])\n",
        "    while queue:\n",
        "        v = queue.popleft()\n",
        "        print(v,end=' ')\n",
        "        for i in gragh[v]:\n",
        "            if not visited[i]:\n",
        "                queue.append(i)\n",
        "                visited[i] = True\n",
        "\n",
        "gragh = [\n",
        "         [],\n",
        "         [2,3,8],\n",
        "         [1,7],\n",
        "         [1,4,5],\n",
        "         [3,5],\n",
        "         [3,4],\n",
        "         [7],\n",
        "         [2,6,8],\n",
        "         [1,7]\n",
        "]\n",
        "\n",
        "visited = [False] * 9\n",
        "\n",
        "bfs(gragh,1,visited)"
      ],
      "execution_count": null,
      "outputs": [
        {
          "output_type": "stream",
          "name": "stdout",
          "text": [
            "1 2 3 8 7 4 5 6 "
          ]
        }
      ]
    },
    {
      "cell_type": "code",
      "metadata": {
        "colab": {
          "base_uri": "https://localhost:8080/"
        },
        "id": "LmQlJx7McFOI",
        "outputId": "d88afb35-2c35-4d3e-e14f-8f211d732f77"
      },
      "source": [
        "# 백준 dfs/bfs\n",
        "\n",
        "n,m,v = map(int,input().split())\n",
        "graph=[]\n",
        "for _ in range(m):\n",
        "    graph.append(list(map(int,input().split())))\n",
        "graph\n"
      ],
      "execution_count": null,
      "outputs": [
        {
          "name": "stdout",
          "output_type": "stream",
          "text": [
            "2 3 4\n",
            "1 2\n",
            "1 3\n",
            "2 3\n"
          ]
        },
        {
          "output_type": "execute_result",
          "data": {
            "text/plain": [
              "[[1, 2], [1, 3], [2, 3]]"
            ]
          },
          "metadata": {},
          "execution_count": 84
        }
      ]
    },
    {
      "cell_type": "code",
      "metadata": {
        "colab": {
          "base_uri": "https://localhost:8080/"
        },
        "id": "UekZc1M5e8te",
        "outputId": "1934a1ec-9acb-4630-825f-f44e5e39b6e6"
      },
      "source": [
        "n,m,v = map(int,input().split())\n",
        "graph = [[0]*(n+1) for _ in range(n+1)]\n",
        "for _ in range(m):\n",
        "    a,b = map(int,input().split())\n",
        "    graph[a][b] = graph[b][a] = 1\n",
        "\n",
        "visited = [0]*(n+1)\n",
        "def dfs(v):\n",
        "    visited[v] = 1\n",
        "    print(v,end=' ')\n",
        "    for i in range(n+1):\n",
        "        if visited[i] == 0 and graph[v][i] == 1:\n",
        "            dfs(i)\n",
        "\n",
        "dfs(v)\n",
        "\n",
        "from collections import deque\n",
        "bfs_visited = [0] * (n+1)\n",
        "def bfs(v):\n",
        "    queue = deque()\n",
        "    queue.append(v)\n",
        "    bfs_visited[v] = 1\n",
        "    while queue:\n",
        "        node = queue.popleft()\n",
        "        print(node,end=' ')\n",
        "        for i in range(n+1):\n",
        "            if bfs_visited[i] == 0 and graph[i][node]:\n",
        "                queue.append(i)\n",
        "                bfs_visited[i] = 1\n",
        "print()\n",
        "bfs(v)"
      ],
      "execution_count": null,
      "outputs": [
        {
          "output_type": "stream",
          "name": "stdout",
          "text": [
            "5 5 3\n",
            "5 4\n",
            "5 2\n",
            "1 2\n",
            "3 4\n",
            "3 1\n",
            "3 1 2 5 4 \n",
            "3 1 4 2 5 "
          ]
        }
      ]
    },
    {
      "cell_type": "code",
      "metadata": {
        "colab": {
          "base_uri": "https://localhost:8080/"
        },
        "id": "4WBV7YsaCghP",
        "outputId": "f0edc00a-a0cd-474a-8fe4-3f3c6699bb6d"
      },
      "source": [
        "n,m,v = map(int,input().split())\n",
        "graph = [[0]*(n+1) for _ in range(n+1)]\n",
        "for _ in range(m):\n",
        "    a,b = map(int,input().split())\n",
        "    graph[a][b] = graph[b][a] = 1 # 인접행렬 방식으로 표현\n",
        "\n",
        "visited = [0] * (n+1)\n",
        "def dfs(v):\n",
        "    visited[v] = 1\n",
        "    print(v,end=' ')\n",
        "    for i in range(n+1):\n",
        "        if visited[i] == 0 and graph[i][v] == 1:\n",
        "            dfs(i)\n",
        "dfs(v)\n",
        "print()\n",
        "\n",
        "from collections import deque\n",
        "bfs_visited = [0] * (n+1)\n",
        "def bfs(v):\n",
        "    bfs_visited[v] = 1\n",
        "    queue = deque()\n",
        "    queue.append(v)\n",
        "    while queue:\n",
        "        node = queue.popleft()\n",
        "        print(node,end=' ')\n",
        "        for i in range(n+1):\n",
        "            if bfs_visited[i] == 0 and graph[i][node]:\n",
        "                queue.append(i)\n",
        "                bfs_visited[i] = 1\n",
        "\n",
        "bfs(v)"
      ],
      "execution_count": null,
      "outputs": [
        {
          "output_type": "stream",
          "name": "stdout",
          "text": [
            "4 5 1\n",
            "1 2\n",
            "1 3\n",
            "1 4\n",
            "2 4\n",
            "3 4\n",
            "1 2 4 3 \n",
            "1 2 3 4 "
          ]
        }
      ]
    },
    {
      "cell_type": "code",
      "metadata": {
        "colab": {
          "base_uri": "https://localhost:8080/"
        },
        "id": "U9u2xtBV5JZP",
        "outputId": "6ab3c14a-2053-43ba-ebba-7ef30d9aa036"
      },
      "source": [
        "n,m,v = map(int,input().split())\n",
        "graph = [[0]*(n+1) for _ in range(n+1)]\n",
        "for i in range(m):\n",
        "    a,b = map(int,input().split())\n",
        "    graph[a][b] = graph[b][a] = 1\n",
        "\n",
        "visited_dfs = [0]*(n+1)\n",
        "def dfs(v):\n",
        "    visited_dfs[v] = 1\n",
        "    print(v,end=' ')\n",
        "    for i in range(n+1):\n",
        "        if visited_dfs[i] == 0 and graph[i][v]:\n",
        "            dfs(i)\n",
        "dfs(v)\n",
        "\n",
        "from collections import deque\n",
        "visited_bfs = [0] * (n+1)\n",
        "def bfs(v):\n",
        "    visited_bfs[v] = 1\n",
        "    queue = deque()\n",
        "    queue.append(v)\n",
        "    while queue:\n",
        "        node = queue.popleft()\n",
        "        print(node,end=' ')\n",
        "        for i in range(n+1):\n",
        "            if visited_bfs[i] == 0 and graph[node][i]:\n",
        "                queue.append(i)\n",
        "                visited_bfs[i] = 1\n",
        "print()\n",
        "bfs(v)\n",
        "\n"
      ],
      "execution_count": null,
      "outputs": [
        {
          "output_type": "stream",
          "name": "stdout",
          "text": [
            "4 5 1\n",
            "1 2\n",
            "1 3\n",
            "1 4\n",
            "2 4\n",
            "3 4\n",
            "1 2 4 3 \n",
            "1 2 3 4 "
          ]
        }
      ]
    },
    {
      "cell_type": "code",
      "metadata": {
        "colab": {
          "base_uri": "https://localhost:8080/"
        },
        "id": "s7tOnbzp7H9N",
        "outputId": "b6a0d358-e905-4445-df44-083de5188027"
      },
      "source": [
        "n,m,v = map(int,input().split())\n",
        "graph = [[0]*(n+1) for _ in range(n+1)]\n",
        "for i in range(n+1):\n",
        "    a,b = map(int,input().split())\n",
        "    graph[a][b] = graph[b][a] = 1\n",
        "\n",
        "visited_dfs = [0]*(n+1)\n",
        "def dfs(v):\n",
        "    visited_dfs[v] = 1\n",
        "    print(v,end=' ')\n",
        "    for i in range(n+1):\n",
        "        if visited_dfs[i]==0 and graph[i][v]:\n",
        "            dfs(i)\n",
        "dfs(v)\n",
        "\n",
        "visited_bfs = [0] * (n+1)\n",
        "from collections import deque\n",
        "def bfs(v):\n",
        "    visited_bfs[v] = 1\n",
        "    queue = deque()\n",
        "    queue.append(v)\n",
        "    while queue:\n",
        "        node = queue.popleft()\n",
        "        print(node,end=' ')\n",
        "        for i in range(n+1):\n",
        "            if visited_bfs[i] == 0 and graph[i][node]:\n",
        "                queue.append(i)\n",
        "                visited_bfs[i] = 1\n",
        "print()\n",
        "bfs(v)\n"
      ],
      "execution_count": null,
      "outputs": [
        {
          "output_type": "stream",
          "name": "stdout",
          "text": [
            "4 5 1\n",
            "1 2\n",
            "1 3\n",
            "1 4\n",
            "2 4\n",
            "3 4\n",
            "1 2 4 3 \n",
            "1 2 3 4 "
          ]
        }
      ]
    },
    {
      "cell_type": "code",
      "metadata": {
        "id": "XS5uDmgD8PIE",
        "colab": {
          "base_uri": "https://localhost:8080/"
        },
        "outputId": "dccd1cda-87be-4213-c273-775da30b7639"
      },
      "source": [
        "n,m,v = map(int,input().split())\n",
        "graph = [[0]*(n+1) for _ in range(n+1)]\n",
        "for _ in range(m):\n",
        "    a,b = map(int,input().split())\n",
        "    graph[a][b] = graph[b][a] = 1\n",
        "\n",
        "visited_dfs = [0] * (n+1)\n",
        "def dfs(v):\n",
        "    visited_dfs[v]=1\n",
        "    print(v,end=' ')\n",
        "    for i in range(n+1):\n",
        "        if graph[v][i] == 1 and visited_dfs[i] == 0:\n",
        "            dfs(i)\n",
        "dfs(v)\n",
        "print()\n",
        "\n",
        "from collections import deque\n",
        "visited_bfs = [0] * (n+1)\n",
        "def bfs(v):\n",
        "    queue = deque()\n",
        "    queue.append(v)\n",
        "    visited_bfs[v] = 1\n",
        "    while queue:\n",
        "        node = queue.popleft()\n",
        "        print(node,end=' ')\n",
        "        for i in range(n+1):\n",
        "            if graph[i][node] == 1 and visited_bfs[i] == 0:\n",
        "                queue.append(i)\n",
        "                visited_bfs[i] = 1\n",
        "bfs(v)"
      ],
      "execution_count": null,
      "outputs": [
        {
          "output_type": "stream",
          "name": "stdout",
          "text": [
            "4 5 1\n",
            "1 2\n",
            "1 3\n",
            "1 4\n",
            "2 4\n",
            "3 4\n",
            "1 2 4 3 \n",
            "1 2 3 4 "
          ]
        }
      ]
    },
    {
      "cell_type": "code",
      "metadata": {
        "colab": {
          "base_uri": "https://localhost:8080/"
        },
        "id": "ucFSFdKXkCQB",
        "outputId": "eddeea43-d9bf-4938-ad04-2f4b263e49aa"
      },
      "source": [
        "m,n,v = map(int,input().split())\n",
        "graph = [[0]*(n+1) for i in range(n+1)]\n",
        "for i in range(m):\n",
        "    a,b = map(int,input().split())\n",
        "    graph[a][b] = graph[b][a] = 1\n",
        "\n",
        "visited_dfs = [0] * (n+1)\n",
        "def dfs(v):\n",
        "    visited_dfs[v] = 1\n",
        "    print(v,end=' ')\n",
        "    for i in range(n+1):\n",
        "        if graph[i][v] == 1 and visited_dfs[i] == 0:\n",
        "            dfs(i)\n",
        "dfs(v)\n",
        "print()\n",
        "\n",
        "from collections import deque\n",
        "visited_bfs = [0] *(n+1)\n",
        "def bfs(v):\n",
        "    visited_bfs[v] = 1\n",
        "    queue = deque()\n",
        "    queue.append(v)\n",
        "    while queue:\n",
        "        node = queue.popleft()\n",
        "        print(node,end=' ')\n",
        "        for i in range(n+1):\n",
        "            if graph[i][node] == 1 and visited_bfs[i] == 0:\n",
        "                queue.append(i)\n",
        "                visited_bfs[i] = 1\n",
        "bfs(v)"
      ],
      "execution_count": null,
      "outputs": [
        {
          "output_type": "stream",
          "name": "stdout",
          "text": [
            "5 5 3\n",
            "5 4\n",
            "5 2\n",
            "1 2\n",
            "3 4\n",
            "3 1\n",
            "3 1 2 5 4 \n",
            "3 1 4 2 5 "
          ]
        }
      ]
    },
    {
      "cell_type": "code",
      "metadata": {
        "colab": {
          "base_uri": "https://localhost:8080/"
        },
        "id": "7IG24XqTO0Wr",
        "outputId": "1e8e05f8-f489-448f-be16-32226c537f04"
      },
      "source": [
        "n,m,v = map(int,input().split())\n",
        "graph = [[0]*(n+1) for _ in range(n+1)]\n",
        "for i in range(m):\n",
        "    a,b = map(int,input().split())\n",
        "    graph[a][b] = graph[b][a] = 1\n",
        "\n",
        "from collections import deque\n",
        "visited_bfs = [0] * (n+1)\n",
        "visited_dfs = [0] * (n+1)\n",
        "\n",
        "def dfs(v):\n",
        "    visited_dfs[v] = 1\n",
        "    print(v,end=' ')\n",
        "    for i in range(n+1):\n",
        "        if graph[v][i] == 1 and visited_dfs[i] == 0:\n",
        "            dfs(i)\n",
        "\n",
        "def bfs(v):\n",
        "    visited_bfs[v] = 1\n",
        "    queue = deque()\n",
        "    queue.append(v)\n",
        "    while queue:\n",
        "        node = queue.popleft()\n",
        "        print(node,end=' ')\n",
        "        for i in range(n+1):\n",
        "           if graph[i][node] == 1 and visited_bfs[i] == 0:\n",
        "               queue.append(i)\n",
        "               visited_bfs[i] = 1\n",
        "\n",
        "dfs(v)\n",
        "print()\n",
        "bfs(v) "
      ],
      "execution_count": null,
      "outputs": [
        {
          "output_type": "stream",
          "name": "stdout",
          "text": [
            "5 5 3\n",
            "5 4\n",
            "5 2\n",
            "1 2\n",
            "3 4\n",
            "3 1\n",
            "3 1 2 5 4 \n",
            "3 1 4 2 5 "
          ]
        }
      ]
    },
    {
      "cell_type": "code",
      "metadata": {
        "colab": {
          "base_uri": "https://localhost:8080/"
        },
        "id": "RPYh2RSIZiTD",
        "outputId": "35524f36-ba33-4d4c-b0c9-af32f2f2fde5"
      },
      "source": [
        "# 리스트 자료형으로 그래프를 표현\n",
        "gragh = [\n",
        "         [],\n",
        "         [2,3,8],\n",
        "         [1,7],\n",
        "         [1,4,5],\n",
        "         [3,5],\n",
        "         [3,4],\n",
        "         [7],\n",
        "         [2,6,8],\n",
        "         [1,7]\n",
        "]\n",
        "\n",
        "visited = [False] * 9\n",
        "\n",
        "def dfs(graph,v,visited):\n",
        "    visited[v] = True\n",
        "    print(v,end=' ')\n",
        "    for i in range(9):\n",
        "        if visited[i] == False and i in graph[v]:\n",
        "            visited[i] = True\n",
        "            dfs(graph,i,visited)\n",
        "\n",
        "dfs(gragh,1,visited)"
      ],
      "execution_count": null,
      "outputs": [
        {
          "output_type": "stream",
          "name": "stdout",
          "text": [
            "1 2 7 6 8 3 4 5 "
          ]
        }
      ]
    },
    {
      "cell_type": "code",
      "metadata": {
        "colab": {
          "base_uri": "https://localhost:8080/"
        },
        "id": "zd6-eKpTbJ5e",
        "outputId": "14a00e47-40ea-4ecc-8dc7-11a631b7710f"
      },
      "source": [
        "# 리스트 자료형으로 그래프를 표현\n",
        "gragh = [\n",
        "         [],\n",
        "         [2,3,8],\n",
        "         [1,7],\n",
        "         [1,4,5],\n",
        "         [3,5],\n",
        "         [3,4],\n",
        "         [7],\n",
        "         [2,6,8],\n",
        "         [1,7]\n",
        "]\n",
        "\n",
        "visited = [False] * 9\n",
        "\n",
        "from collections import deque\n",
        "def bfs(graph,v,visited):\n",
        "    q = deque()\n",
        "    q.append(v)\n",
        "    visited[v] = True\n",
        "    while q:\n",
        "        node = q.popleft()\n",
        "        print(node,end=' ')\n",
        "        for i in range(9):\n",
        "            if visited[i] == False and i in graph[node]:\n",
        "                q.append(i)\n",
        "                visited[i] = True\n",
        "bfs(gragh,1,visited)"
      ],
      "execution_count": null,
      "outputs": [
        {
          "output_type": "stream",
          "name": "stdout",
          "text": [
            "1 2 3 8 7 4 5 6 "
          ]
        }
      ]
    }
  ]
}